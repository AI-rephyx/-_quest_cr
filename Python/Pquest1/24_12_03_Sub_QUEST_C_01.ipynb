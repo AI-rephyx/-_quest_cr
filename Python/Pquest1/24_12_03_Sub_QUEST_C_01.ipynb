{
  "nbformat": 4,
  "nbformat_minor": 0,
  "metadata": {
    "colab": {
      "provenance": [],
      "include_colab_link": true
    },
    "kernelspec": {
      "name": "python3",
      "display_name": "Python 3"
    },
    "language_info": {
      "name": "python"
    }
  },
  "cells": [
    {
      "cell_type": "markdown",
      "metadata": {
        "id": "view-in-github",
        "colab_type": "text"
      },
      "source": [
        "<a href=\"https://colab.research.google.com/github/EUNSOLLEE-aiffel/AIFFEL_quest_cr/blob/master/24_12_03_Sub_QUEST_C_01.ipynb\" target=\"_parent\"><img src=\"https://colab.research.google.com/assets/colab-badge.svg\" alt=\"Open In Colab\"/></a>"
      ]
    },
    {
      "cell_type": "code",
      "execution_count": null,
      "metadata": {
        "id": "ZJmr9d8RESJI"
      },
      "outputs": [],
      "source": [
        "def palindrome(word):\n",
        "    return word == word[::-1] #뒤집었을때 true인지 false인지 반환\n",
        "\n",
        "\n",
        "text = input(\"단어를 입력하세요 : \") #단어 입력받기\n",
        "\n",
        "if palindrome(text):\n",
        "  print(\"회문입니다.\")\n",
        "\n",
        "else:\n",
        "  print(\"회문이 아닙니다.\")\n",
        "\n",
        "\n"
      ]
    }
  ]
}